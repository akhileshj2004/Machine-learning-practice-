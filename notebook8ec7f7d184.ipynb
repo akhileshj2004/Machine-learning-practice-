{
 "cells": [
  {
   "cell_type": "code",
   "execution_count": null,
   "metadata": {
    "_cell_guid": "b1076dfc-b9ad-4769-8c92-a6c4dae69d19",
    "_uuid": "8f2839f25d086af736a60e9eeb907d3b93b6e0e5",
    "execution": {
     "iopub.execute_input": "2023-12-04T02:36:20.033599Z",
     "iopub.status.busy": "2023-12-04T02:36:20.033161Z",
     "iopub.status.idle": "2023-12-04T02:36:20.072849Z",
     "shell.execute_reply": "2023-12-04T02:36:20.071742Z",
     "shell.execute_reply.started": "2023-12-04T02:36:20.033562Z"
    }
   },
   "outputs": [],
   "source": [
    "import pandas as pd"
   ]
  },
  {
   "cell_type": "code",
   "execution_count": null,
   "metadata": {
    "execution": {
     "iopub.execute_input": "2023-12-04T02:36:20.075729Z",
     "iopub.status.busy": "2023-12-04T02:36:20.074793Z",
     "iopub.status.idle": "2023-12-04T02:36:20.080923Z",
     "shell.execute_reply": "2023-12-04T02:36:20.079559Z",
     "shell.execute_reply.started": "2023-12-04T02:36:20.075686Z"
    }
   },
   "outputs": [],
   "source": [
    "import warnings\n",
    "warnings.filterwarnings(\"ignore\")"
   ]
  },
  {
   "cell_type": "code",
   "execution_count": null,
   "metadata": {
    "execution": {
     "iopub.execute_input": "2023-12-04T02:36:20.083089Z",
     "iopub.status.busy": "2023-12-04T02:36:20.08223Z",
     "iopub.status.idle": "2023-12-04T02:36:20.12347Z",
     "shell.execute_reply": "2023-12-04T02:36:20.122327Z",
     "shell.execute_reply.started": "2023-12-04T02:36:20.083051Z"
    }
   },
   "outputs": [],
   "source": [
    "df=pd.read_csv(r\"/kaggle/input/twitter-stocks-dataset/twitter-stocks.csv\")"
   ]
  },
  {
   "cell_type": "code",
   "execution_count": null,
   "metadata": {
    "execution": {
     "iopub.execute_input": "2023-12-04T02:36:20.128216Z",
     "iopub.status.busy": "2023-12-04T02:36:20.127203Z",
     "iopub.status.idle": "2023-12-04T02:36:20.172114Z",
     "shell.execute_reply": "2023-12-04T02:36:20.170706Z",
     "shell.execute_reply.started": "2023-12-04T02:36:20.128156Z"
    }
   },
   "outputs": [],
   "source": [
    "df.head()"
   ]
  },
  {
   "cell_type": "code",
   "execution_count": null,
   "metadata": {
    "execution": {
     "iopub.execute_input": "2023-12-04T02:36:20.1752Z",
     "iopub.status.busy": "2023-12-04T02:36:20.174265Z",
     "iopub.status.idle": "2023-12-04T02:36:20.205574Z",
     "shell.execute_reply": "2023-12-04T02:36:20.204053Z",
     "shell.execute_reply.started": "2023-12-04T02:36:20.175146Z"
    }
   },
   "outputs": [],
   "source": [
    "df.info()"
   ]
  },
  {
   "cell_type": "code",
   "execution_count": null,
   "metadata": {
    "execution": {
     "iopub.execute_input": "2023-12-04T02:36:20.207455Z",
     "iopub.status.busy": "2023-12-04T02:36:20.207099Z",
     "iopub.status.idle": "2023-12-04T02:36:20.252598Z",
     "shell.execute_reply": "2023-12-04T02:36:20.251124Z",
     "shell.execute_reply.started": "2023-12-04T02:36:20.207421Z"
    }
   },
   "outputs": [],
   "source": [
    "df.describe()"
   ]
  },
  {
   "cell_type": "code",
   "execution_count": null,
   "metadata": {
    "execution": {
     "iopub.execute_input": "2023-12-04T02:36:20.25432Z",
     "iopub.status.busy": "2023-12-04T02:36:20.253971Z",
     "iopub.status.idle": "2023-12-04T02:36:20.261553Z",
     "shell.execute_reply": "2023-12-04T02:36:20.260157Z",
     "shell.execute_reply.started": "2023-12-04T02:36:20.254286Z"
    }
   },
   "outputs": [],
   "source": [
    "df_n=df[['Date','Open','Close']]"
   ]
  },
  {
   "cell_type": "code",
   "execution_count": null,
   "metadata": {
    "execution": {
     "iopub.execute_input": "2023-12-04T02:36:20.264029Z",
     "iopub.status.busy": "2023-12-04T02:36:20.263518Z",
     "iopub.status.idle": "2023-12-04T02:36:20.290304Z",
     "shell.execute_reply": "2023-12-04T02:36:20.288922Z",
     "shell.execute_reply.started": "2023-12-04T02:36:20.263977Z"
    }
   },
   "outputs": [],
   "source": [
    "df_n"
   ]
  },
  {
   "cell_type": "code",
   "execution_count": null,
   "metadata": {
    "execution": {
     "iopub.execute_input": "2023-12-04T02:36:20.292457Z",
     "iopub.status.busy": "2023-12-04T02:36:20.292015Z",
     "iopub.status.idle": "2023-12-04T02:36:20.308198Z",
     "shell.execute_reply": "2023-12-04T02:36:20.306972Z",
     "shell.execute_reply.started": "2023-12-04T02:36:20.292419Z"
    }
   },
   "outputs": [],
   "source": [
    "df_n['Date']=pd.to_datetime(df_n['Date'].apply(lambda x: x.split(\" \")[0]))"
   ]
  },
  {
   "cell_type": "code",
   "execution_count": null,
   "metadata": {
    "execution": {
     "iopub.execute_input": "2023-12-04T02:36:20.314268Z",
     "iopub.status.busy": "2023-12-04T02:36:20.313075Z",
     "iopub.status.idle": "2023-12-04T02:36:20.324865Z",
     "shell.execute_reply": "2023-12-04T02:36:20.323425Z",
     "shell.execute_reply.started": "2023-12-04T02:36:20.314204Z"
    }
   },
   "outputs": [],
   "source": [
    "type(df['Date'][0])"
   ]
  },
  {
   "cell_type": "code",
   "execution_count": null,
   "metadata": {
    "execution": {
     "iopub.execute_input": "2023-12-04T02:36:20.327458Z",
     "iopub.status.busy": "2023-12-04T02:36:20.326544Z",
     "iopub.status.idle": "2023-12-04T02:36:20.338331Z",
     "shell.execute_reply": "2023-12-04T02:36:20.336992Z",
     "shell.execute_reply.started": "2023-12-04T02:36:20.327412Z"
    }
   },
   "outputs": [],
   "source": [
    "df['Date'][0]"
   ]
  },
  {
   "cell_type": "code",
   "execution_count": null,
   "metadata": {
    "execution": {
     "iopub.execute_input": "2023-12-04T02:36:20.340909Z",
     "iopub.status.busy": "2023-12-04T02:36:20.340197Z",
     "iopub.status.idle": "2023-12-04T02:36:20.357039Z",
     "shell.execute_reply": "2023-12-04T02:36:20.355564Z",
     "shell.execute_reply.started": "2023-12-04T02:36:20.340772Z"
    }
   },
   "outputs": [],
   "source": [
    "type(df_n['Date'][0])"
   ]
  },
  {
   "cell_type": "code",
   "execution_count": null,
   "metadata": {
    "execution": {
     "iopub.execute_input": "2023-12-04T02:36:20.359499Z",
     "iopub.status.busy": "2023-12-04T02:36:20.359004Z",
     "iopub.status.idle": "2023-12-04T02:36:20.370381Z",
     "shell.execute_reply": "2023-12-04T02:36:20.369295Z",
     "shell.execute_reply.started": "2023-12-04T02:36:20.359448Z"
    }
   },
   "outputs": [],
   "source": [
    "df_n['Date'][0]"
   ]
  },
  {
   "cell_type": "code",
   "execution_count": null,
   "metadata": {
    "execution": {
     "iopub.execute_input": "2023-12-04T02:36:20.37296Z",
     "iopub.status.busy": "2023-12-04T02:36:20.372058Z",
     "iopub.status.idle": "2023-12-04T02:36:20.386643Z",
     "shell.execute_reply": "2023-12-04T02:36:20.385249Z",
     "shell.execute_reply.started": "2023-12-04T02:36:20.372905Z"
    }
   },
   "outputs": [],
   "source": [
    "df_n.set_index('Date',drop=True,inplace=True)"
   ]
  },
  {
   "cell_type": "code",
   "execution_count": null,
   "metadata": {
    "execution": {
     "iopub.execute_input": "2023-12-04T02:36:20.388764Z",
     "iopub.status.busy": "2023-12-04T02:36:20.388399Z",
     "iopub.status.idle": "2023-12-04T02:36:20.413613Z",
     "shell.execute_reply": "2023-12-04T02:36:20.412276Z",
     "shell.execute_reply.started": "2023-12-04T02:36:20.38872Z"
    }
   },
   "outputs": [],
   "source": [
    "df_n"
   ]
  },
  {
   "cell_type": "code",
   "execution_count": null,
   "metadata": {
    "execution": {
     "iopub.execute_input": "2023-12-04T02:36:20.415084Z",
     "iopub.status.busy": "2023-12-04T02:36:20.414692Z",
     "iopub.status.idle": "2023-12-04T02:36:21.192471Z",
     "shell.execute_reply": "2023-12-04T02:36:21.191Z",
     "shell.execute_reply.started": "2023-12-04T02:36:20.415044Z"
    }
   },
   "outputs": [],
   "source": [
    "import numpy as np\n",
    "import matplotlib.pyplot as plt\n",
    "fg, ax =plt.subplots(1,2,figsize=(20,7))\n",
    "ax[0].plot(df_n['Open'],label='Open',color='green')\n",
    "ax[0].set_xlabel('Date',size=15)\n",
    "ax[0].set_ylabel('Price',size=15)\n",
    "ax[0].legend()\n",
    "\n",
    "ax[1].plot(df_n['Close'],label='Close',color='red')\n",
    "ax[1].set_xlabel('Date',size=15)\n",
    "ax[1].set_ylabel('Price',size=15)\n",
    "ax[1].legend()\n",
    "\n",
    "fg.show()"
   ]
  },
  {
   "cell_type": "code",
   "execution_count": null,
   "metadata": {
    "execution": {
     "iopub.execute_input": "2023-12-04T02:36:21.195431Z",
     "iopub.status.busy": "2023-12-04T02:36:21.194578Z",
     "iopub.status.idle": "2023-12-04T02:36:22.467939Z",
     "shell.execute_reply": "2023-12-04T02:36:22.466631Z",
     "shell.execute_reply.started": "2023-12-04T02:36:21.195377Z"
    }
   },
   "outputs": [],
   "source": [
    "from sklearn.preprocessing import MinMaxScaler\n",
    "MMS = MinMaxScaler()\n",
    "df_n[df_n.columns] = MMS.fit_transform(df_n)"
   ]
  },
  {
   "cell_type": "code",
   "execution_count": null,
   "metadata": {
    "execution": {
     "iopub.execute_input": "2023-12-04T02:36:22.470369Z",
     "iopub.status.busy": "2023-12-04T02:36:22.469778Z",
     "iopub.status.idle": "2023-12-04T02:36:22.489938Z",
     "shell.execute_reply": "2023-12-04T02:36:22.488914Z",
     "shell.execute_reply.started": "2023-12-04T02:36:22.470307Z"
    }
   },
   "outputs": [],
   "source": [
    "df_n"
   ]
  },
  {
   "cell_type": "code",
   "execution_count": null,
   "metadata": {
    "execution": {
     "iopub.execute_input": "2023-12-04T02:36:22.492047Z",
     "iopub.status.busy": "2023-12-04T02:36:22.491436Z",
     "iopub.status.idle": "2023-12-04T02:36:22.506084Z",
     "shell.execute_reply": "2023-12-04T02:36:22.504629Z",
     "shell.execute_reply.started": "2023-12-04T02:36:22.492008Z"
    }
   },
   "outputs": [],
   "source": [
    "df_n.shape"
   ]
  },
  {
   "cell_type": "code",
   "execution_count": null,
   "metadata": {
    "execution": {
     "iopub.execute_input": "2023-12-04T02:36:22.50936Z",
     "iopub.status.busy": "2023-12-04T02:36:22.507903Z",
     "iopub.status.idle": "2023-12-04T02:36:22.521417Z",
     "shell.execute_reply": "2023-12-04T02:36:22.520143Z",
     "shell.execute_reply.started": "2023-12-04T02:36:22.509303Z"
    }
   },
   "outputs": [],
   "source": [
    "training_size = round(len(df_n) * 0.80) # Selecting 80 % for training and 20 % for testing\n",
    "training_size"
   ]
  },
  {
   "cell_type": "code",
   "execution_count": null,
   "metadata": {
    "execution": {
     "iopub.execute_input": "2023-12-04T02:36:22.523963Z",
     "iopub.status.busy": "2023-12-04T02:36:22.523233Z",
     "iopub.status.idle": "2023-12-04T02:36:22.535557Z",
     "shell.execute_reply": "2023-12-04T02:36:22.534268Z",
     "shell.execute_reply.started": "2023-12-04T02:36:22.523921Z"
    }
   },
   "outputs": [],
   "source": [
    "train_data = df_n[:training_size]\n",
    "test_data  = df_n[training_size:]\n",
    "\n",
    "train_data.shape, test_data.shape"
   ]
  },
  {
   "cell_type": "code",
   "execution_count": null,
   "metadata": {
    "execution": {
     "iopub.execute_input": "2023-12-04T02:36:22.538336Z",
     "iopub.status.busy": "2023-12-04T02:36:22.537832Z",
     "iopub.status.idle": "2023-12-04T02:36:22.550652Z",
     "shell.execute_reply": "2023-12-04T02:36:22.549559Z",
     "shell.execute_reply.started": "2023-12-04T02:36:22.538289Z"
    }
   },
   "outputs": [],
   "source": [
    "# Function to create sequence of data for training and testing\n",
    "\n",
    "def create_sequence(dataset):\n",
    "                sequences = []\n",
    "                labels = []\n",
    "                start_idx = 0\n",
    "                for stop_idx in range(50,len(dataset)):                   # Selecting 50 rows at a time\n",
    "                    sequences.append(dataset.iloc[start_idx:stop_idx])\n",
    "                    labels.append(dataset.iloc[stop_idx])\n",
    "                    start_idx += 1\n",
    "                return (np.array(sequences),np.array(labels))\n"
   ]
  },
  {
   "cell_type": "code",
   "execution_count": null,
   "metadata": {
    "execution": {
     "iopub.execute_input": "2023-12-04T02:36:22.553505Z",
     "iopub.status.busy": "2023-12-04T02:36:22.55226Z",
     "iopub.status.idle": "2023-12-04T02:36:23.173592Z",
     "shell.execute_reply": "2023-12-04T02:36:23.172202Z",
     "shell.execute_reply.started": "2023-12-04T02:36:22.553463Z"
    }
   },
   "outputs": [],
   "source": [
    "train_seq, train_label = create_sequence(train_data)\n",
    "test_seq, test_label = create_sequence(test_data)"
   ]
  },
  {
   "cell_type": "code",
   "execution_count": null,
   "metadata": {
    "execution": {
     "iopub.execute_input": "2023-12-04T02:36:23.176505Z",
     "iopub.status.busy": "2023-12-04T02:36:23.175662Z",
     "iopub.status.idle": "2023-12-04T02:36:23.18563Z",
     "shell.execute_reply": "2023-12-04T02:36:23.184375Z",
     "shell.execute_reply.started": "2023-12-04T02:36:23.176458Z"
    }
   },
   "outputs": [],
   "source": [
    "train_seq.shape, train_label.shape, test_seq.shape, test_label.shape"
   ]
  },
  {
   "cell_type": "code",
   "execution_count": null,
   "metadata": {
    "execution": {
     "iopub.execute_input": "2023-12-04T02:36:23.193459Z",
     "iopub.status.busy": "2023-12-04T02:36:23.192702Z",
     "iopub.status.idle": "2023-12-04T02:36:33.281651Z",
     "shell.execute_reply": "2023-12-04T02:36:33.280285Z",
     "shell.execute_reply.started": "2023-12-04T02:36:23.193414Z"
    }
   },
   "outputs": [],
   "source": [
    "from keras.models import Sequential\n",
    "from keras.layers import Dense, Dropout, LSTM, Bidirectional"
   ]
  },
  {
   "cell_type": "code",
   "execution_count": null,
   "metadata": {
    "execution": {
     "iopub.execute_input": "2023-12-04T02:36:33.284725Z",
     "iopub.status.busy": "2023-12-04T02:36:33.283282Z",
     "iopub.status.idle": "2023-12-04T02:36:34.199749Z",
     "shell.execute_reply": "2023-12-04T02:36:34.198409Z",
     "shell.execute_reply.started": "2023-12-04T02:36:33.284683Z"
    }
   },
   "outputs": [],
   "source": [
    "model = Sequential()\n",
    "model.add(LSTM(units=50, return_sequences=True, input_shape = (train_seq.shape[1], train_seq.shape[2])))\n",
    "\n",
    "model.add(Dropout(0.1)) \n",
    "model.add(LSTM(units=50))\n",
    "\n",
    "model.add(Dense(2))\n",
    "\n",
    "model.compile(loss='mean_squared_error', optimizer='adam', metrics=['mean_absolute_error'])\n",
    "\n",
    "model.summary()"
   ]
  },
  {
   "cell_type": "code",
   "execution_count": null,
   "metadata": {
    "execution": {
     "iopub.execute_input": "2023-12-04T02:36:34.201573Z",
     "iopub.status.busy": "2023-12-04T02:36:34.201252Z",
     "iopub.status.idle": "2023-12-04T02:41:00.649917Z",
     "shell.execute_reply": "2023-12-04T02:41:00.648897Z",
     "shell.execute_reply.started": "2023-12-04T02:36:34.20154Z"
    }
   },
   "outputs": [],
   "source": [
    "model.fit(train_seq, train_label, epochs=80,validation_data=(test_seq, test_label), verbose=1)"
   ]
  },
  {
   "cell_type": "code",
   "execution_count": null,
   "metadata": {
    "execution": {
     "iopub.execute_input": "2023-12-04T02:41:00.652405Z",
     "iopub.status.busy": "2023-12-04T02:41:00.651698Z",
     "iopub.status.idle": "2023-12-04T02:41:01.953352Z",
     "shell.execute_reply": "2023-12-04T02:41:01.951959Z",
     "shell.execute_reply.started": "2023-12-04T02:41:00.652364Z"
    }
   },
   "outputs": [],
   "source": [
    "test_predicted = model.predict(test_seq)\n",
    "test_predicted[:5]"
   ]
  },
  {
   "cell_type": "code",
   "execution_count": null,
   "metadata": {
    "execution": {
     "iopub.execute_input": "2023-12-04T02:41:01.955317Z",
     "iopub.status.busy": "2023-12-04T02:41:01.954936Z",
     "iopub.status.idle": "2023-12-04T02:41:01.965324Z",
     "shell.execute_reply": "2023-12-04T02:41:01.963975Z",
     "shell.execute_reply.started": "2023-12-04T02:41:01.95528Z"
    }
   },
   "outputs": [],
   "source": [
    "test_inverse_predicted = MMS.inverse_transform(test_predicted) # Inversing scaling on predicted data\n",
    "test_inverse_predicted[:5]"
   ]
  },
  {
   "cell_type": "code",
   "execution_count": null,
   "metadata": {
    "execution": {
     "iopub.execute_input": "2023-12-04T02:41:01.968099Z",
     "iopub.status.busy": "2023-12-04T02:41:01.967433Z",
     "iopub.status.idle": "2023-12-04T02:41:01.98076Z",
     "shell.execute_reply": "2023-12-04T02:41:01.979427Z",
     "shell.execute_reply.started": "2023-12-04T02:41:01.968039Z"
    }
   },
   "outputs": [],
   "source": [
    "# Merging actual and predicted data for better visualization\n",
    "\n",
    "gs_slic_data = pd.concat([df_n.iloc[-402:].copy(),pd.DataFrame(test_inverse_predicted,columns=['open_predicted','close_predicted'],index=df_n.iloc[-402:].index)], axis=1)"
   ]
  },
  {
   "cell_type": "code",
   "execution_count": null,
   "metadata": {
    "execution": {
     "iopub.execute_input": "2023-12-04T02:41:01.983278Z",
     "iopub.status.busy": "2023-12-04T02:41:01.982729Z",
     "iopub.status.idle": "2023-12-04T02:41:02.00732Z",
     "shell.execute_reply": "2023-12-04T02:41:02.006008Z",
     "shell.execute_reply.started": "2023-12-04T02:41:01.983221Z"
    }
   },
   "outputs": [],
   "source": [
    "gs_slic_data[['open','close']] = MMS.inverse_transform(gs_slic_data[['Open','Close']]) # Inverse scaling"
   ]
  },
  {
   "cell_type": "code",
   "execution_count": null,
   "metadata": {
    "execution": {
     "iopub.execute_input": "2023-12-04T02:41:02.009605Z",
     "iopub.status.busy": "2023-12-04T02:41:02.009164Z",
     "iopub.status.idle": "2023-12-04T02:41:02.037721Z",
     "shell.execute_reply": "2023-12-04T02:41:02.036367Z",
     "shell.execute_reply.started": "2023-12-04T02:41:02.009561Z"
    }
   },
   "outputs": [],
   "source": [
    "gs_slic_data['2021-06-09\t':'2021-06-16']"
   ]
  },
  {
   "cell_type": "code",
   "execution_count": null,
   "metadata": {
    "execution": {
     "iopub.execute_input": "2023-12-04T02:41:02.040139Z",
     "iopub.status.busy": "2023-12-04T02:41:02.039711Z",
     "iopub.status.idle": "2023-12-04T02:41:02.490495Z",
     "shell.execute_reply": "2023-12-04T02:41:02.489051Z",
     "shell.execute_reply.started": "2023-12-04T02:41:02.040099Z"
    }
   },
   "outputs": [],
   "source": [
    "gs_slic_data[['open','open_predicted']].plot(figsize=(10,6))\n",
    "plt.xticks(rotation=45)\n",
    "plt.xlabel('Date',size=15)\n",
    "plt.ylabel('Stock Price',size=15)\n",
    "plt.title('Actual vs Predicted for open price',size=15)\n",
    "plt.show()"
   ]
  },
  {
   "cell_type": "code",
   "execution_count": null,
   "metadata": {
    "execution": {
     "iopub.execute_input": "2023-12-04T02:41:02.492858Z",
     "iopub.status.busy": "2023-12-04T02:41:02.492469Z",
     "iopub.status.idle": "2023-12-04T02:41:02.891318Z",
     "shell.execute_reply": "2023-12-04T02:41:02.889735Z",
     "shell.execute_reply.started": "2023-12-04T02:41:02.492821Z"
    }
   },
   "outputs": [],
   "source": [
    "gs_slic_data[['close','close_predicted']].plot(figsize=(10,6))\n",
    "plt.xticks(rotation=45)\n",
    "plt.xlabel('Date',size=15)\n",
    "plt.ylabel('Stock Price',size=15)\n",
    "plt.title('Actual vs Predicted for close price',size=15)\n",
    "plt.show()"
   ]
  },
  {
   "cell_type": "code",
   "execution_count": null,
   "metadata": {
    "execution": {
     "iopub.execute_input": "2023-12-04T02:41:02.893293Z",
     "iopub.status.busy": "2023-12-04T02:41:02.892862Z",
     "iopub.status.idle": "2023-12-04T02:41:02.904748Z",
     "shell.execute_reply": "2023-12-04T02:41:02.903137Z",
     "shell.execute_reply.started": "2023-12-04T02:41:02.893254Z"
    }
   },
   "outputs": [],
   "source": [
    "# Creating a dataframe and adding 10 days to existing index \n",
    "\n",
    "gs_slic_data = gs_slic_data.append(pd.DataFrame(columns=gs_slic_data.columns,index=pd.date_range(start=gs_slic_data.index[-1], periods=11, freq='D', closed='right')))\n"
   ]
  },
  {
   "cell_type": "code",
   "execution_count": null,
   "metadata": {
    "execution": {
     "iopub.execute_input": "2023-12-04T02:41:02.907317Z",
     "iopub.status.busy": "2023-12-04T02:41:02.906774Z",
     "iopub.status.idle": "2023-12-04T02:41:02.930507Z",
     "shell.execute_reply": "2023-12-04T02:41:02.929175Z",
     "shell.execute_reply.started": "2023-12-04T02:41:02.907274Z"
    }
   },
   "outputs": [],
   "source": [
    "gs_slic_data['2021-06-09\t':'2021-06-16']"
   ]
  },
  {
   "cell_type": "code",
   "execution_count": null,
   "metadata": {
    "execution": {
     "iopub.execute_input": "2023-12-04T02:41:02.93211Z",
     "iopub.status.busy": "2023-12-04T02:41:02.931733Z",
     "iopub.status.idle": "2023-12-04T02:41:02.944578Z",
     "shell.execute_reply": "2023-12-04T02:41:02.943213Z",
     "shell.execute_reply.started": "2023-12-04T02:41:02.932075Z"
    }
   },
   "outputs": [],
   "source": [
    "upcoming_prediction = pd.DataFrame(columns=['open','close'],index=gs_slic_data.index)\n",
    "upcoming_prediction.index=pd.to_datetime(upcoming_prediction.index)"
   ]
  },
  {
   "cell_type": "code",
   "execution_count": null,
   "metadata": {
    "execution": {
     "iopub.execute_input": "2023-12-04T02:41:02.946691Z",
     "iopub.status.busy": "2023-12-04T02:41:02.946219Z",
     "iopub.status.idle": "2023-12-04T02:41:03.749003Z",
     "shell.execute_reply": "2023-12-04T02:41:03.747837Z",
     "shell.execute_reply.started": "2023-12-04T02:41:02.946652Z"
    }
   },
   "outputs": [],
   "source": [
    "curr_seq = test_seq[-1:]\n",
    "for i in range(-10,0):\n",
    "    up_pred = model.predict(curr_seq)\n",
    "    upcoming_prediction.iloc[i] = up_pred\n",
    "    curr_seq = np.append(curr_seq[0][1:],up_pred,axis=0)\n",
    "    curr_seq = curr_seq.reshape(test_seq[-1:].shape)\n"
   ]
  },
  {
   "cell_type": "code",
   "execution_count": null,
   "metadata": {
    "execution": {
     "iopub.execute_input": "2023-12-04T02:41:03.751194Z",
     "iopub.status.busy": "2023-12-04T02:41:03.750743Z",
     "iopub.status.idle": "2023-12-04T02:41:03.762578Z",
     "shell.execute_reply": "2023-12-04T02:41:03.760819Z",
     "shell.execute_reply.started": "2023-12-04T02:41:03.751156Z"
    }
   },
   "outputs": [],
   "source": [
    "upcoming_prediction[['open','close']] = MMS.inverse_transform(upcoming_prediction[['open','close']])"
   ]
  },
  {
   "cell_type": "code",
   "execution_count": null,
   "metadata": {
    "execution": {
     "iopub.execute_input": "2023-12-04T02:41:03.76503Z",
     "iopub.status.busy": "2023-12-04T02:41:03.764578Z",
     "iopub.status.idle": "2023-12-04T02:41:04.171738Z",
     "shell.execute_reply": "2023-12-04T02:41:04.170091Z",
     "shell.execute_reply.started": "2023-12-04T02:41:03.764988Z"
    }
   },
   "outputs": [],
   "source": [
    "fg,ax=plt.subplots(figsize=(10,5))\n",
    "ax.plot(gs_slic_data.loc['2021-04-01':,'open'],label='Current Open Price')\n",
    "ax.plot(upcoming_prediction.loc['2021-04-01':,'open'],label='Upcoming Open Price')\n",
    "plt.setp(ax.xaxis.get_majorticklabels(), rotation=45)\n",
    "ax.set_xlabel('Date',size=15)\n",
    "ax.set_ylabel('Stock Price',size=15)\n",
    "ax.set_title('Upcoming Open price prediction',size=15)\n",
    "ax.legend()\n",
    "fg.show()"
   ]
  },
  {
   "cell_type": "code",
   "execution_count": null,
   "metadata": {
    "execution": {
     "iopub.execute_input": "2023-12-04T02:41:04.174282Z",
     "iopub.status.busy": "2023-12-04T02:41:04.173834Z",
     "iopub.status.idle": "2023-12-04T02:41:04.593581Z",
     "shell.execute_reply": "2023-12-04T02:41:04.592538Z",
     "shell.execute_reply.started": "2023-12-04T02:41:04.17424Z"
    }
   },
   "outputs": [],
   "source": [
    "fg,ax=plt.subplots(figsize=(10,5))\n",
    "ax.plot(gs_slic_data.loc['2021-04-01':,'close'],label='Current close Price')\n",
    "ax.plot(upcoming_prediction.loc['2021-04-01':,'close'],label='Upcoming close Price')\n",
    "plt.setp(ax.xaxis.get_majorticklabels(), rotation=45)\n",
    "ax.set_xlabel('Date',size=15)\n",
    "ax.set_ylabel('Stock Price',size=15)\n",
    "ax.set_title('Upcoming close price prediction',size=15)\n",
    "ax.legend()\n",
    "fg.show()"
   ]
  },
  {
   "cell_type": "code",
   "execution_count": null,
   "metadata": {},
   "outputs": [],
   "source": []
  }
 ],
 "metadata": {
  "kaggle": {
   "accelerator": "none",
   "dataSources": [
    {
     "datasetId": 392005,
     "sourceId": 755761,
     "sourceType": "datasetVersion"
    },
    {
     "datasetId": 986308,
     "sourceId": 1665739,
     "sourceType": "datasetVersion"
    },
    {
     "datasetId": 1668559,
     "sourceId": 2736918,
     "sourceType": "datasetVersion"
    },
    {
     "datasetId": 1795572,
     "sourceId": 2929028,
     "sourceType": "datasetVersion"
    },
    {
     "datasetId": 1912819,
     "sourceId": 3141205,
     "sourceType": "datasetVersion"
    },
    {
     "datasetId": 2612621,
     "sourceId": 4463401,
     "sourceType": "datasetVersion"
    }
   ],
   "dockerImageVersionId": 30407,
   "isGpuEnabled": false,
   "isInternetEnabled": false,
   "language": "python",
   "sourceType": "notebook"
  },
  "kernelspec": {
   "display_name": "Python 3 (ipykernel)",
   "language": "python",
   "name": "python3"
  },
  "language_info": {
   "codemirror_mode": {
    "name": "ipython",
    "version": 3
   },
   "file_extension": ".py",
   "mimetype": "text/x-python",
   "name": "python",
   "nbconvert_exporter": "python",
   "pygments_lexer": "ipython3",
   "version": "3.11.4"
  }
 },
 "nbformat": 4,
 "nbformat_minor": 4
}
